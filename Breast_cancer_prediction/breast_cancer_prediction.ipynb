{
 "cells": [
  {
   "cell_type": "markdown",
   "metadata": {},
   "source": [
    "## Breast Cancer Prediction"
   ]
  },
  {
   "cell_type": "markdown",
   "metadata": {},
   "source": [
    "This project has been dedicated to solve the classification problem of Breast cancer. \n",
    "We have been given the data of breast cancer. We have to classify it as Bengin or Malignant.\n",
    "\n"
   ]
  },
  {
   "cell_type": "markdown",
   "metadata": {
    "collapsed": true
   },
   "source": [
    "## Importing useful library"
   ]
  },
  {
   "cell_type": "code",
   "execution_count": 1,
   "metadata": {
    "collapsed": true
   },
   "outputs": [],
   "source": [
    "import numpy as np\n",
    "import matplotlib.pyplot as plt\n",
    "import seaborn as sns\n",
    "import pandas as pd\n",
    "\n",
    "from sklearn.ensemble import RandomForestClassifier\n",
    "from sklearn.model_selection import GridSearchCV\n",
    "from sklearn.model_selection import train_test_split\n",
    "from sklearn.metrics import confusion_matrix,roc_auc_score,roc_curve,precision_recall_curve\n",
    "from sklearn.metrics import accuracy_score,classification_report\n",
    "from sklearn.metrics import precision_recall_fscore_support as score\n",
    "from sklearn.preprocessing import Imputer,StandardScaler\n",
    "\n",
    "import os \n",
    "import pickle\n",
    "%matplotlib inline\n",
    "plt.rcParams['font.size']=13\n",
    "\n",
    "\n",
    "home_directory = [os.getenv(\"HOME\")]\n",
    "data_directory = [os.sep.join(home_directory+['data'])]\n",
    "file_name = ['breast_cancer.data']\n"
   ]
  },
  {
   "cell_type": "code",
   "execution_count": 2,
   "metadata": {
    "collapsed": true
   },
   "outputs": [],
   "source": [
    "#Method for reding the data from Local disc\n",
    "def read_data(foldername,filename):\n",
    "    \n",
    "    # Generating file path using directory and file name\n",
    "    file_path = os.sep.join(foldername+filename) \n",
    "    #Loading Dataset \n",
    "    data = pd.read_csv(file_path)\n",
    "    return data\n",
    "\n",
    "# Getting Headers of dataset using this method\n",
    "def get_headers(dataset):\n",
    "    return dataset.columns.values\n",
    "\n",
    "# This method retuurns all the column list in which some value is missing\n",
    "def get_missingvalue_cols(data):\n",
    "    \"\"\"\n",
    "    In dataset Missing value has been represented using ? sumbol.\n",
    "    \n",
    "    We will replace missing value with NaN value the dataset.\n",
    "    \n",
    "    Then we returns those column which contain NaN values.\n",
    "    \n",
    "    \"\"\"\n",
    "    \n",
    "    data = data.replace(['?'],np.NaN)\n",
    "    \n",
    "    cols_with_nullvalues = pd.isnull(data).sum() > 0\n",
    "    \n",
    "    nullcols_lst = cols_with_nullvalues[cols_with_nullvalues == True].index.tolist()\n",
    "    return data,nullcols_lst\n",
    "\n",
    "# This methods replace the data with column mean value and returns new dataset\n",
    "def clean_missing_values(data,colnames):\n",
    "    imputer = Imputer(missing_values='NaN',strategy='mean',copy=False)\n",
    "    for col in colnames:\n",
    "        data[col] = imputer.fit_transform(data[col].values.reshape(-1,1)).round(2)\n",
    "    return data\n",
    "    \n",
    "    "
   ]
  },
  {
   "cell_type": "code",
   "execution_count": 3,
   "metadata": {
    "collapsed": true
   },
   "outputs": [],
   "source": [
    "# method returns the various statical description of the datasets.\n",
    "def data_stastics(data):\n",
    "    return data.describe()\n",
    "\n",
    "\n",
    "\n",
    "# Splitting the dataset in train and test set for validation\n",
    "def split_dataset(data,test_percentage,target_column,feature_Clumns):\n",
    "    x_train, x_test, y_train, y_test = train_test_split(data[feature_Clumns],data[target_column],\n",
    "                                                       test_size=test_percentage,random_state=0)\n",
    "    return x_train, x_test, y_train['CancerType'], y_test['CancerType']\n",
    "\n",
    "#This method returns the best estimated model of RandomForest Classifier using GridSearchCV model\n",
    "\n",
    "\n",
    "\n",
    "\n",
    "\n",
    "def random_forest_clf(x_train,y_train):\n",
    "    \n",
    "    # For the purpose of getting the number of fetures in dataset for using further\n",
    "    rf =RandomForestClassifier().fit(X_train,Y_train)\n",
    "    # Various parameter for GridSearchCV Model\n",
    "    params_grid = {'n_estimators':range(2,30,3),\n",
    "                   'max_depth':range(3,50,2),\n",
    "                   'max_features':range(1,len(rf.feature_importances_)+1)}\n",
    "    \n",
    "    gsc = GridSearchCV(\n",
    "    RandomForestClassifier(random_state=42),\n",
    "    param_grid = params_grid,\n",
    "    scoring='accuracy',\n",
    "    n_jobs = -1)\n",
    "    \n",
    "    # Fitting the GridSearchCV model\n",
    "    gsc = gsc.fit(X_train,Y_train)\n",
    "    #     returning the best estimator\n",
    "    return gsc.best_estimator_\n",
    "    \n",
    "    \n"
   ]
  },
  {
   "cell_type": "code",
   "execution_count": 4,
   "metadata": {
    "collapsed": true
   },
   "outputs": [],
   "source": [
    "\n",
    "# Plotting Heatmap of Confusion Matrix report\n",
    "def plot_confusion_matrix(ytrue,ypred):\n",
    "    ax = sns.heatmap(confusion_matrix(Y_test,ypred),annot=True,fmt='d')\n",
    "    labels = ['Benign','Malignant']\n",
    "    ax.set_xticklabels(labels)\n",
    "    ax.set_yticklabels(labels)\n",
    "    ax.set(xlabel = 'Predicted',ylabel='Actual',title='Confusion Matrix')\n",
    "\n",
    "    \n",
    "    \n",
    "    \n",
    "# Plotting ROC Curve  and Precision recall Curve for the classification model\n",
    "def plot_roc_curve(ytrue,yprob):\n",
    "    \n",
    "    sns.set_context('notebook')\n",
    "\n",
    "    yprob = rf.predict_proba(X_test)\n",
    "    fig, axList = plt.subplots(ncols=2)\n",
    "    fig.set_size_inches(12,6)\n",
    "    ax = axList[0]\n",
    "    ytest_copy = Y_test.copy()\n",
    "    ytest_copy = ytest_copy.replace([2,4],[False,True])\n",
    "\n",
    "    fpr,tpr,thresholds = roc_curve(ytest_copy,yprob[:,1])\n",
    "    ax.plot(fpr,tpr,lw=4)\n",
    "    ax.plot([0,1],[0,1],ls='--',lw=3,color='black')\n",
    "    ax.set(xlabel=\"False positive Rate\",ylabel=\"True Positive Rate\",title=\"Roc Curve\")\n",
    "    ax.grid(True)\n",
    "    \n",
    "    ax = axList[1]\n",
    "    precision,recall,_ = precision_recall_curve(ytest_copy,yprob[:,1])\n",
    "    ax.plot(recall,precision)\n",
    "    ax.set(\n",
    "        xlabel='Recall',\n",
    "        ylabel='Precision',\n",
    "        title='Precision Recall Curve')\n",
    "    ax.grid(True)\n",
    "    plt.tight_layout()\n",
    "    \n",
    " \n",
    "\n",
    "# Plotting Bar chart with feature importance value\n",
    "def feature_importances_plot(model,feature_cols):\n",
    "    plt.rcParams['figure.figsize'] = (10,10)\n",
    "    feature_mp = pd.Series(model.feature_importances_,index=feature_cols).sort_values(ascending=False)\n",
    "    print(feature_mp)\n",
    "    ax = feature_mp.plot(kind = 'bar')\n",
    "    ax.set(ylabel = 'Relative Feature Importance')\n",
    "   \n",
    "\n",
    "\n",
    "# Getting various report of predicted data\n",
    "def performance_metrics(model):\n",
    "    precision, recall, sc, _ = score(Y_test,model.predict(X_test))\n",
    "    a_score = accuracy_score(Y_test,model.predict(X_test))\n",
    "    return pd.DataFrame({\n",
    "        'accuracy_score':a_score,\n",
    "        'precision':precision,\n",
    "        'recall':recall,\n",
    "        'score':sc,\n",
    "    })\n",
    "\n",
    "   "
   ]
  },
  {
   "cell_type": "code",
   "execution_count": null,
   "metadata": {
    "collapsed": true
   },
   "outputs": [],
   "source": []
  },
  {
   "cell_type": "markdown",
   "metadata": {},
   "source": [
    "## Reading Data"
   ]
  },
  {
   "cell_type": "code",
   "execution_count": 5,
   "metadata": {
    "collapsed": true
   },
   "outputs": [],
   "source": [
    "# Reading Data file from local disc using folder and file name\n",
    "\n",
    "data = read_data(data_directory,file_name)"
   ]
  },
  {
   "cell_type": "markdown",
   "metadata": {
    "collapsed": true
   },
   "source": [
    "* In given dataset the missing value has been stored by using ? symbol. So we are going to find out those column names of datasets which contain null values into a List.\n",
    "* We also getting new dataset in which ? has been replaced by numpy Nan value."
   ]
  },
  {
   "cell_type": "code",
   "execution_count": 6,
   "metadata": {
    "collapsed": true
   },
   "outputs": [],
   "source": [
    "data,null_cols = get_missingvalue_cols(data)"
   ]
  },
  {
   "cell_type": "markdown",
   "metadata": {},
   "source": [
    "### Data preprocessing steps"
   ]
  },
  {
   "cell_type": "code",
   "execution_count": 7,
   "metadata": {
    "collapsed": true
   },
   "outputs": [],
   "source": [
    "# Replacing all the NaN value with column mean value\n",
    "\n",
    "data = clean_missing_values(data,null_cols)"
   ]
  },
  {
   "cell_type": "code",
   "execution_count": 8,
   "metadata": {
    "collapsed": true
   },
   "outputs": [],
   "source": [
    "#Summerizing the various details of datasets"
   ]
  },
  {
   "cell_type": "code",
   "execution_count": 9,
   "metadata": {},
   "outputs": [
    {
     "data": {
      "text/html": [
       "<div>\n",
       "<style>\n",
       "    .dataframe thead tr:only-child th {\n",
       "        text-align: right;\n",
       "    }\n",
       "\n",
       "    .dataframe thead th {\n",
       "        text-align: left;\n",
       "    }\n",
       "\n",
       "    .dataframe tbody tr th {\n",
       "        vertical-align: top;\n",
       "    }\n",
       "</style>\n",
       "<table border=\"1\" class=\"dataframe\">\n",
       "  <thead>\n",
       "    <tr style=\"text-align: right;\">\n",
       "      <th></th>\n",
       "      <th>CodeNumber</th>\n",
       "      <th>ClumpThickness</th>\n",
       "      <th>UniformityCellSize</th>\n",
       "      <th>UniformityCellShape</th>\n",
       "      <th>MarginalAdhesion</th>\n",
       "      <th>SingleEpithelialCellSize</th>\n",
       "      <th>BareNuclei</th>\n",
       "      <th>BlandChromatin</th>\n",
       "      <th>NormalNucleoli</th>\n",
       "      <th>Mitoses</th>\n",
       "      <th>CancerType</th>\n",
       "    </tr>\n",
       "  </thead>\n",
       "  <tbody>\n",
       "    <tr>\n",
       "      <th>count</th>\n",
       "      <td>6.980000e+02</td>\n",
       "      <td>698.000000</td>\n",
       "      <td>698.000000</td>\n",
       "      <td>698.000000</td>\n",
       "      <td>698.000000</td>\n",
       "      <td>698.000000</td>\n",
       "      <td>698.000000</td>\n",
       "      <td>698.000000</td>\n",
       "      <td>698.000000</td>\n",
       "      <td>698.000000</td>\n",
       "      <td>698.000000</td>\n",
       "    </tr>\n",
       "    <tr>\n",
       "      <th>mean</th>\n",
       "      <td>1.071807e+06</td>\n",
       "      <td>4.416905</td>\n",
       "      <td>3.137536</td>\n",
       "      <td>3.210602</td>\n",
       "      <td>2.809456</td>\n",
       "      <td>3.217765</td>\n",
       "      <td>3.548424</td>\n",
       "      <td>3.438395</td>\n",
       "      <td>2.869628</td>\n",
       "      <td>1.590258</td>\n",
       "      <td>2.690544</td>\n",
       "    </tr>\n",
       "    <tr>\n",
       "      <th>std</th>\n",
       "      <td>6.175323e+05</td>\n",
       "      <td>2.817673</td>\n",
       "      <td>3.052575</td>\n",
       "      <td>2.972867</td>\n",
       "      <td>2.856606</td>\n",
       "      <td>2.215408</td>\n",
       "      <td>3.603144</td>\n",
       "      <td>2.440056</td>\n",
       "      <td>3.055004</td>\n",
       "      <td>1.716162</td>\n",
       "      <td>0.951596</td>\n",
       "    </tr>\n",
       "    <tr>\n",
       "      <th>min</th>\n",
       "      <td>6.163400e+04</td>\n",
       "      <td>1.000000</td>\n",
       "      <td>1.000000</td>\n",
       "      <td>1.000000</td>\n",
       "      <td>1.000000</td>\n",
       "      <td>1.000000</td>\n",
       "      <td>1.000000</td>\n",
       "      <td>1.000000</td>\n",
       "      <td>1.000000</td>\n",
       "      <td>1.000000</td>\n",
       "      <td>2.000000</td>\n",
       "    </tr>\n",
       "    <tr>\n",
       "      <th>25%</th>\n",
       "      <td>8.702582e+05</td>\n",
       "      <td>2.000000</td>\n",
       "      <td>1.000000</td>\n",
       "      <td>1.000000</td>\n",
       "      <td>1.000000</td>\n",
       "      <td>2.000000</td>\n",
       "      <td>1.000000</td>\n",
       "      <td>2.000000</td>\n",
       "      <td>1.000000</td>\n",
       "      <td>1.000000</td>\n",
       "      <td>2.000000</td>\n",
       "    </tr>\n",
       "    <tr>\n",
       "      <th>50%</th>\n",
       "      <td>1.171710e+06</td>\n",
       "      <td>4.000000</td>\n",
       "      <td>1.000000</td>\n",
       "      <td>1.000000</td>\n",
       "      <td>1.000000</td>\n",
       "      <td>2.000000</td>\n",
       "      <td>1.000000</td>\n",
       "      <td>3.000000</td>\n",
       "      <td>1.000000</td>\n",
       "      <td>1.000000</td>\n",
       "      <td>2.000000</td>\n",
       "    </tr>\n",
       "    <tr>\n",
       "      <th>75%</th>\n",
       "      <td>1.238354e+06</td>\n",
       "      <td>6.000000</td>\n",
       "      <td>5.000000</td>\n",
       "      <td>5.000000</td>\n",
       "      <td>4.000000</td>\n",
       "      <td>4.000000</td>\n",
       "      <td>5.000000</td>\n",
       "      <td>5.000000</td>\n",
       "      <td>4.000000</td>\n",
       "      <td>1.000000</td>\n",
       "      <td>4.000000</td>\n",
       "    </tr>\n",
       "    <tr>\n",
       "      <th>max</th>\n",
       "      <td>1.345435e+07</td>\n",
       "      <td>10.000000</td>\n",
       "      <td>10.000000</td>\n",
       "      <td>10.000000</td>\n",
       "      <td>10.000000</td>\n",
       "      <td>10.000000</td>\n",
       "      <td>10.000000</td>\n",
       "      <td>10.000000</td>\n",
       "      <td>10.000000</td>\n",
       "      <td>10.000000</td>\n",
       "      <td>4.000000</td>\n",
       "    </tr>\n",
       "  </tbody>\n",
       "</table>\n",
       "</div>"
      ],
      "text/plain": [
       "         CodeNumber  ClumpThickness  UniformityCellSize  UniformityCellShape  \\\n",
       "count  6.980000e+02      698.000000          698.000000           698.000000   \n",
       "mean   1.071807e+06        4.416905            3.137536             3.210602   \n",
       "std    6.175323e+05        2.817673            3.052575             2.972867   \n",
       "min    6.163400e+04        1.000000            1.000000             1.000000   \n",
       "25%    8.702582e+05        2.000000            1.000000             1.000000   \n",
       "50%    1.171710e+06        4.000000            1.000000             1.000000   \n",
       "75%    1.238354e+06        6.000000            5.000000             5.000000   \n",
       "max    1.345435e+07       10.000000           10.000000            10.000000   \n",
       "\n",
       "       MarginalAdhesion  SingleEpithelialCellSize  BareNuclei  BlandChromatin  \\\n",
       "count        698.000000                698.000000  698.000000      698.000000   \n",
       "mean           2.809456                  3.217765    3.548424        3.438395   \n",
       "std            2.856606                  2.215408    3.603144        2.440056   \n",
       "min            1.000000                  1.000000    1.000000        1.000000   \n",
       "25%            1.000000                  2.000000    1.000000        2.000000   \n",
       "50%            1.000000                  2.000000    1.000000        3.000000   \n",
       "75%            4.000000                  4.000000    5.000000        5.000000   \n",
       "max           10.000000                 10.000000   10.000000       10.000000   \n",
       "\n",
       "       NormalNucleoli     Mitoses  CancerType  \n",
       "count      698.000000  698.000000  698.000000  \n",
       "mean         2.869628    1.590258    2.690544  \n",
       "std          3.055004    1.716162    0.951596  \n",
       "min          1.000000    1.000000    2.000000  \n",
       "25%          1.000000    1.000000    2.000000  \n",
       "50%          1.000000    1.000000    2.000000  \n",
       "75%          4.000000    1.000000    4.000000  \n",
       "max         10.000000   10.000000    4.000000  "
      ]
     },
     "execution_count": 9,
     "metadata": {},
     "output_type": "execute_result"
    }
   ],
   "source": [
    "stats = data_stastics(data)\n",
    "stats"
   ]
  },
  {
   "cell_type": "code",
   "execution_count": 10,
   "metadata": {
    "collapsed": true
   },
   "outputs": [],
   "source": [
    "# Splitting the dataset into train and test sets\n",
    "\n",
    "feature_cols = data.columns[1:-1]\n",
    "target_column = data.columns[-1:]\n",
    "X_train, X_test, Y_train, Y_test = split_dataset(data,.3,target_column,feature_cols)\n"
   ]
  },
  {
   "cell_type": "code",
   "execution_count": 11,
   "metadata": {
    "collapsed": true
   },
   "outputs": [],
   "source": [
    "# Random Forest classifier Model Object without any parameter for fitting the data\n",
    "\n",
    "clf = RandomForestClassifier()\n",
    "clf = clf.fit(X_train,Y_train)"
   ]
  },
  {
   "cell_type": "code",
   "execution_count": 12,
   "metadata": {},
   "outputs": [
    {
     "data": {
      "text/plain": [
       "0.96190476190476193"
      ]
     },
     "execution_count": 12,
     "metadata": {},
     "output_type": "execute_result"
    }
   ],
   "source": [
    "# R2 score of model\n",
    "\n",
    "clf.score(X_test,Y_test)"
   ]
  },
  {
   "cell_type": "markdown",
   "metadata": {},
   "source": [
    "In above model the Random Forest have taken its own default parameter for fitting the data.\n",
    "\n",
    "It is also possible that on changing the RandomForest default parameter\n",
    "in above given model the model can be optimized for best prediction. \n",
    "\n",
    "We have to use GridSearchCV for getting the best RandomForest estimator. It takes a list of values for\n",
    "various model parameter in gives the best one."
   ]
  },
  {
   "cell_type": "code",
   "execution_count": 13,
   "metadata": {
    "collapsed": true
   },
   "outputs": [],
   "source": [
    "# Random Forest Model by using GridSearchCV model\n",
    "\n",
    "rf = random_forest_clf(X_train,Y_train)"
   ]
  },
  {
   "cell_type": "code",
   "execution_count": 14,
   "metadata": {},
   "outputs": [
    {
     "data": {
      "text/plain": [
       "0.97142857142857142"
      ]
     },
     "execution_count": 14,
     "metadata": {},
     "output_type": "execute_result"
    }
   ],
   "source": [
    "# R2 score of cross validated model\n",
    "\n",
    "rf.score(X_test,Y_test)"
   ]
  },
  {
   "cell_type": "markdown",
   "metadata": {},
   "source": [
    "##### Note : Using GridSearchCV the RandomForest model score value has been enhanced."
   ]
  },
  {
   "cell_type": "markdown",
   "metadata": {},
   "source": [
    " "
   ]
  },
  {
   "cell_type": "markdown",
   "metadata": {},
   "source": [
    " "
   ]
  },
  {
   "cell_type": "markdown",
   "metadata": {},
   "source": [
    "## Various  Report about RandomForest classifier"
   ]
  },
  {
   "cell_type": "code",
   "execution_count": 114,
   "metadata": {},
   "outputs": [
    {
     "data": {
      "text/html": [
       "<div>\n",
       "<style>\n",
       "    .dataframe thead tr:only-child th {\n",
       "        text-align: right;\n",
       "    }\n",
       "\n",
       "    .dataframe thead th {\n",
       "        text-align: left;\n",
       "    }\n",
       "\n",
       "    .dataframe tbody tr th {\n",
       "        vertical-align: top;\n",
       "    }\n",
       "</style>\n",
       "<table border=\"1\" class=\"dataframe\">\n",
       "  <thead>\n",
       "    <tr style=\"text-align: right;\">\n",
       "      <th></th>\n",
       "      <th>accuracy_score</th>\n",
       "      <th>precision</th>\n",
       "      <th>recall</th>\n",
       "      <th>score</th>\n",
       "    </tr>\n",
       "  </thead>\n",
       "  <tbody>\n",
       "    <tr>\n",
       "      <th>0</th>\n",
       "      <td>0.971429</td>\n",
       "      <td>0.992248</td>\n",
       "      <td>0.962406</td>\n",
       "      <td>0.977099</td>\n",
       "    </tr>\n",
       "    <tr>\n",
       "      <th>1</th>\n",
       "      <td>0.971429</td>\n",
       "      <td>0.938272</td>\n",
       "      <td>0.987013</td>\n",
       "      <td>0.962025</td>\n",
       "    </tr>\n",
       "  </tbody>\n",
       "</table>\n",
       "</div>"
      ],
      "text/plain": [
       "   accuracy_score  precision    recall     score\n",
       "0        0.971429   0.992248  0.962406  0.977099\n",
       "1        0.971429   0.938272  0.987013  0.962025"
      ]
     },
     "execution_count": 114,
     "metadata": {},
     "output_type": "execute_result"
    }
   ],
   "source": [
    "performance_metrics(rf)"
   ]
  },
  {
   "cell_type": "markdown",
   "metadata": {},
   "source": [
    "Let us we check what are columns on which prediction is much more dependant."
   ]
  },
  {
   "cell_type": "code",
   "execution_count": 119,
   "metadata": {},
   "outputs": [
    {
     "name": "stdout",
     "output_type": "stream",
     "text": [
      "UniformityCellShape         0.218893\n",
      "NormalNucleoli              0.197628\n",
      "UniformityCellSize          0.142779\n",
      "BlandChromatin              0.120007\n",
      "ClumpThickness              0.109854\n",
      "BareNuclei                  0.067187\n",
      "MarginalAdhesion            0.064833\n",
      "SingleEpithelialCellSize    0.043371\n",
      "Mitoses                     0.035448\n",
      "dtype: float64\n"
     ]
    },
    {
     "data": {
      "image/png": "[encoded data removed]",
      "text/plain": [
       "<matplotlib.figure.Figure at 0x7f27d28e52b0>"
      ]
     },
     "metadata": {},
     "output_type": "display_data"
    }
   ],
   "source": [
    "feature_cols = data.columns[1:-1]\n",
    "feature_importances_plot(rf,feature_cols)\n"
   ]
  },
  {
   "cell_type": "markdown",
   "metadata": {},
   "source": [
    "## ROC Curve for the Test Data"
   ]
  },
  {
   "cell_type": "code",
   "execution_count": 72,
   "metadata": {},
   "outputs": [
    {
     "name": "stdout",
     "output_type": "stream",
     "text": [
      "Area Under Roc curve :  0.974709501025\n"
     ]
    },
    {
     "data": {
      "image/png": "[encoded data removed]",
      "text/plain": [
       "<matplotlib.figure.Figure at 0x7f27d0184630>"
      ]
     },
     "metadata": {},
     "output_type": "display_data"
    }
   ],
   "source": [
    "\n",
    "plot_roc_curve(Y_test,yprob[:,1])\n",
    "print(\"Area Under Roc curve : \", roc_auc_score(ytest_copy,rf.predict(X_test)) )"
   ]
  },
  {
   "cell_type": "markdown",
   "metadata": {},
   "source": [
    "## Confusion Matrix report"
   ]
  },
  {
   "cell_type": "code",
   "execution_count": 213,
   "metadata": {},
   "outputs": [
    {
     "data": {
      "image/png": "[encoded data removed]",
      "text/plain": [
       "<matplotlib.figure.Figure at 0x7febac470978>"
      ]
     },
     "metadata": {},
     "output_type": "display_data"
    }
   ],
   "source": [
    "\n",
    "ypred = rf.predict(X_test)\n",
    "plot_confusion_matrix(Y_test,ypred)\n"
   ]
  }
 ],
 "metadata": {
  "kernelspec": {
   "display_name": "Python 3",
   "language": "python",
   "name": "python3"
  },
  "language_info": {
   "codemirror_mode": {
    "name": "ipython",
    "version": 3
   },
   "file_extension": ".py",
   "mimetype": "text/x-python",
   "name": "python",
   "nbconvert_exporter": "python",
   "pygments_lexer": "ipython3",
   "version": "3.6.3"
  }
 },
 "nbformat": 4,
 "nbformat_minor": 2
}
